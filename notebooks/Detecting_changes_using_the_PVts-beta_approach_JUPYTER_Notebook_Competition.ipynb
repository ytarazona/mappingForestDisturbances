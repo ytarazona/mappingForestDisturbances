{
 "cells": [
  {
   "cell_type": "markdown",
   "metadata": {},
   "source": [
    "**Authors:**  Yonatan Tarazona <br>\n",
    "**Email:** geoyons@gmail.com <br>\n",
    "**Copyright:** Yonatan Tarazona 2022<br>\n",
    "**License:** MIT"
   ]
  },
  {
   "cell_type": "markdown",
   "metadata": {},
   "source": [
    "# **_<div class=\"alert alert-success\"><font color='darkred'> Detecting forest disturbances using Sentinel-1 through a non-seasonal detection approach based on time series</font></div>_**"
   ]
  },
  {
   "cell_type": "markdown",
   "metadata": {},
   "source": [
    "The following topics will be covered:"
   ]
  },
  {
   "cell_type": "markdown",
   "metadata": {},
   "source": [
    " 1. [Introduction](#section1)\n",
    " 2. [Study area](#section2)\n",
    " 3. [Data and methods](#section3)\n",
    "    - [Prerequisites like libraries]() \n",
    "    - [Brief introduction to the PVts-$\\beta$ approach]() \n",
    "    - [Detect changes in order to map deforestation]()\n",
    "        - [Using radar imagery]()\n",
    " 4. [Pross and cons about detecting deforestation in time series domain](#section4)\n",
    "\n",
    "### Learning outcomes\n",
    "\n",
    "At the end of this notebook you will know:\n",
    "\n",
    "* How to use radar images (Sentinel-1) to map deforestation using Google Earth Engine and Python\n",
    "* How to use a non-seasonal detection approach based on time series to map forest disturbances.\n",
    "* How to visualise brakpoints in time series.\n",
    "* Pros and cons about detecting vegetation changes with time series instead of machine learning or deep learning.\n",
    "\n",
    "So, let's start!"
   ]
  },
  {
   "cell_type": "markdown",
   "metadata": {},
   "source": [
    "<img src=\"https://raw.githubusercontent.com/ytarazona/mappingForestDisturbances/main/data/amazon.jpg\" align=\"center\" width=\"1000\"/>"
   ]
  },
  {
   "cell_type": "markdown",
   "metadata": {},
   "source": [
    "<div class=\"alert alert-info\" role=\"alert\">\n",
    "\n",
    "## <a id='section1'></a>1. Introduction\n",
    "\n",
    "</div>"
   ]
  },
  {
   "cell_type": "markdown",
   "metadata": {},
   "source": [
    "Monitoring vegetation dynamics, which includes forest disturbances such as deforestation, through Remote Sensing is widely preferred over in-situ processes for several reasons: (i) Remote Sensing allows monitoring large extensions from local, regional and global scales, (ii) the cost is minimal, considering that large satellite image databases of different spatial resolutions exist with free access for different applications, and (iii) because Remote Sensing data adhere to the principles of repeatability, objectivity and consistency, which are prerequisites in the framework of monitoring and surveillance of natural resources. Vegetation change detection is addressed by different approaches ranging from the use of artificial intelligence and its algorithms supervised classification of Machine Learning or Deep Learning, or based on Time Series through vegetation indices or fractions indices. These latter methods are subdivided into seasonal and non-seasonal approaches, where the former make strong use of the seasonal component of Time Series to model and detect changes, while non-seasonal approaches do not rely on the seasonal component and given their simplicity are implemented in languages such as Python and R, but not yet in Google Earth Engine (GEE).\n",
    "\n",
    "In this tutorial you will learn how to detect deforestion using a non-seasonal detection approach (PVts-$\\beta$) based on time series using GEE with Python API. To follow this tutorial, vegetation indices, fraction indices and radar polarizations such as Normalized Difference Vegetation Index (NDVI), Enhanced Vegetation Index (EVI), Normalized Difference Fraction Index (NDFI) and VH, VV, HV, HH can be used. Here, VH polarization of Sentinel-1 will be be used in order to map deforestation."
   ]
  },
  {
   "cell_type": "markdown",
   "metadata": {},
   "source": [
    "<div class=\"alert alert-info\" role=\"alert\">\n",
    "\n",
    "## <a id='section2'></a>2. Study area\n",
    "\n",
    "</div>"
   ]
  },
  {
   "cell_type": "markdown",
   "metadata": {},
   "source": [
    "The study area for this tutorial is located in Madre de Dios, an Amazon region in the southeast of Peru. This region is a hotspot of great biodiversity and carbon sequestration. However, deforestation based mainly on logging, agriculture, and gold mining, is endangering forest ecosystem services and having negative effects on the surrounding population and the Peruvian state. In fact, deforestation is increasing in recent years."
   ]
  },
  {
   "cell_type": "markdown",
   "metadata": {},
   "source": [
    "<div class=\"alert alert-info\" role=\"alert\">\n",
    "\n",
    "## <a id='section3'></a>3. Data and methods\n",
    "\n",
    "</div>"
   ]
  },
  {
   "cell_type": "markdown",
   "metadata": {},
   "source": [
    "###  3.1 Prerequisites like libraries"
   ]
  },
  {
   "cell_type": "markdown",
   "metadata": {},
   "source": [
    "**Step 1**: A few Earth Engine and Python libraries will be used in order to detect deforestation."
   ]
  },
  {
   "cell_type": "markdown",
   "metadata": {},
   "source": [
    "**Earth engine library**"
   ]
  },
  {
   "cell_type": "markdown",
   "metadata": {},
   "source": [
    "Run the following cell to initialize the Python API. It is necessary to have an [account](https://earthengine.google.com/) in GEE to get started. "
   ]
  },
  {
   "cell_type": "code",
   "execution_count": 1,
   "metadata": {},
   "outputs": [],
   "source": [
    "import ee\n",
    "# Trigger the authentication flow\n",
    "ee.Authenticate()\n",
    "# Initialize the library\n",
    "ee.Initialize()"
   ]
  },
  {
   "cell_type": "markdown",
   "metadata": {},
   "source": [
    "**Python libraries**"
   ]
  },
  {
   "cell_type": "markdown",
   "metadata": {},
   "source": [
    "If you are using either Anaconda or [Google Colaboraty](https://colab.research.google.com/?utm_source=scs-index), there are two packages that it is necessary to install, ```geemap``` and ```forestools```. Their installations are simple, run just these lines:\n",
    "\n",
    "```python\n",
    "# forestools\n",
    "!pip install git+https://github.com/ytarazona/forestools\n",
    "\n",
    "# geemap\n",
    "!pip install git+https://github.com/giswqs/geemap\n",
    "```\n",
    "\n",
    "Please see the documentation for more details:\n",
    "\n",
    "- [geemap](https://github.com/ytarazona/forestools).\n",
    "- [forestools](https://github.com/giswqs/geemap/)."
   ]
  },
  {
   "cell_type": "markdown",
   "metadata": {},
   "source": [
    "In addition, there are another python libraries to be used. These packages will be useful for plotting some results."
   ]
  },
  {
   "cell_type": "code",
   "execution_count": 2,
   "metadata": {},
   "outputs": [],
   "source": [
    "import matplotlib.pyplot as plt\n",
    "from forestools.pvts import pvts\n",
    "from forestools.plot import plot\n",
    "import pandas as pd\n",
    "import numpy as np\n",
    "import seaborn as sns\n",
    "sns.set()"
   ]
  },
  {
   "cell_type": "markdown",
   "metadata": {},
   "source": [
    "In order to have interactive results, the *geemap* package will be imported, so just run these lines:"
   ]
  },
  {
   "cell_type": "code",
   "execution_count": 3,
   "metadata": {},
   "outputs": [],
   "source": [
    "import geemap as emap\n",
    "import geemap.colormaps as cm\n",
    "Map = emap.Map()\n",
    "Map.add_basemap('SATELLITE')"
   ]
  },
  {
   "cell_type": "markdown",
   "metadata": {},
   "source": [
    "### 3.2 Introduction to the PVts-$\\beta$ approach"
   ]
  },
  {
   "cell_type": "markdown",
   "metadata": {},
   "source": [
    "Time series methods for mapping deforestation are generally classified into seasonal and non-seasonal approaches. Seasonal approaches are widely used and a variety of algorithms exist, but all of them are highly dependent on the seasonal component of the time series. The non-seasonal detection approach (i.e. PVts-$\\beta$ approach proposed by [Tarazona et al. (2018)](https://doi.org/10.1016/j.ecolind.2018.07.012), does not depend on seasonality and could be the best option in order to map forest disturbances, for instance deforestation.\n",
    "\n",
    "In order to detect deforestation with this approach, it is necessary to obtain: (i) the time in which a deforestation event will be detected, i.e., the temporal position $n$ of the pixel $P_{i,j}$:\n",
    "\n",
    "$$P_{i,j} = s_{1} + s_{2} + s_{3} + \\ldots + s_{n-1} + s_{n}$$\n",
    "\n",
    "(ii) the mean ($\\mu_{i,j}$) and its standard deviation ($\\sigma_{i,j}$) for the same pixel $s_{i,j}$ (from $s_{1}$ to $s_{n-1}$). If the value for position ($n$) is less than the established limit (${L_{i,j}}^{n-1}$):\n",
    "\n",
    "$${L_{i,j}}^{n-1} = \\mu_{i,j} - \\beta *\\sigma_{i,j}$$\n",
    "\n",
    "then a disturbance is detected in the forest (e.g., deforestation).\n",
    "\n",
    "where, ${L_{i,j}}^{n-1}$ is the lower limit, $\\beta$ is the threshold magnitude, and $i,j$ is the row and column position of a given pixel.\n",
    "\n",
    "The only parameter to obtain is the $\\beta$ value. This parameter was calibrated with NDVI and EVI in the work of [Tarazona et al. (2018)](https://doi.org/10.1016/j.ecolind.2018.07.012), for NDFI indices in the work of [Tarazona (2021)](10.1109/LGRS.2021.3137277). So that, courtesy of them, we can visualize the optimal $\\beta$ values for different indices. Pandas and matplotlib libraries will be used for the purpose of elaborating these interesting figures:"
   ]
  },
  {
   "cell_type": "code",
   "execution_count": 4,
   "metadata": {},
   "outputs": [
    {
     "data": {
      "image/png": "[encoded data removed]",
      "text/plain": [
       "<Figure size 576x504 with 4 Axes>"
      ]
     },
     "metadata": {},
     "output_type": "display_data"
    }
   ],
   "source": [
    "# courtesy of Tarazona et al. (2018)\n",
    "url1 = \"https://github.com/ytarazona/ft_data/raw/main/data/data_cv_beta_tarazonaetal2018.csv\"\n",
    "data_2018 = pd.read_csv(url1, index_col = 0, sep = \";\")\n",
    "\n",
    "# courtesy of Tarazona et al. (2022)\n",
    "url2 = \"https://github.com/ytarazona/ft_data/raw/main/data/data_cal_beta_tarazona2022.csv\"\n",
    "data_2022 = pd.read_csv(url2, index_col = 0, sep = \";\")\n",
    "\n",
    "# y - axis\n",
    "y = np.arange(1, 21)\n",
    "i = [0, 1, 2, 3]\n",
    "style = ['--','-',':','-.']\n",
    "mark = ['.', '.', '.', '^']\n",
    "size = [8, 8, 8, 5]\n",
    "cross_validation = ['k = 5', 'k = 6', 'k = 8', 'k = 10']\n",
    "\n",
    "fig, axes = plt.subplots(2,2, figsize = (8, 7))\n",
    "# PV serie\n",
    "for i,st, m, s, cv  in zip(i, style, mark, size, cross_validation):\n",
    "    axes[0][0].plot(data_2018.iloc[:,i], y, linestyle = st, marker = m, ms = s, label = cv)\n",
    "axes[0][0].hlines([5, 6], 2, 15, 'gray', '--')\n",
    "axes[0][0].set(title = 'PV', xlabel = 'average error %', ylabel = r'$\\beta$', xlim = (1, 40), ylim=(0, 21))\n",
    "axes[0][0].legend()\n",
    "\n",
    "# NDVI serie\n",
    "i = [4, 5, 6, 7]\n",
    "for i,st, m, s, cv  in zip(i, style, mark, size, cross_validation):\n",
    "    axes[0][1].plot(data_2018.iloc[:,i], y, linestyle = st, marker = m, ms = s, label = cv)\n",
    "axes[0][1].hlines([3], 2, 15, 'gray', '--')\n",
    "axes[0][1].set(title = 'NDVI', xlabel = 'average error %', ylabel = r'$\\beta$', xlim = (1, 40), ylim=(0, 21))\n",
    "axes[0][1].legend()\n",
    "\n",
    "# EVI serie\n",
    "i = [8, 9, 10, 11]\n",
    "for i,st, m, s, cv  in zip(i, style, mark, size, cross_validation):\n",
    "    axes[1][0].plot(data_2018.iloc[:,i], y, linestyle = st, marker = m, ms = s, label = cv)\n",
    "axes[1][0].hlines([3], 2, 15, 'gray', '--')\n",
    "axes[1][0].set(title = 'EVI', xlabel = 'average error %', ylabel = r'$\\beta$', xlim = (1, 40), ylim=(0, 21))\n",
    "axes[1][0].legend()\n",
    "\n",
    "# NDFI serie\n",
    "axes[1][1].plot(100-data_2022.iloc[:,0]*100, np.arange(0.5, 20.5, 0.5), \n",
    "                'g-', marker = 's', ms = 4, label = '100% - overall accuracy')\n",
    "axes[1][1].hlines([4, 7], 2, 15, 'gray', '--')\n",
    "axes[1][1].set(title = 'NDFI', xlabel = 'error %', ylabel = r'$\\beta$', xlim = (5, 40), ylim=(0, 21))\n",
    "axes[1][1].legend()\n",
    "fig.tight_layout()\n",
    "plt.show()"
   ]
  },
  {
   "cell_type": "markdown",
   "metadata": {},
   "source": [
    "Although, there are reference values for $\\beta$, it should be noted that this can be modified according to the needs of cartographic accuracy or the study region. Consider reading the articles cited lines above.\n",
    "\n",
    "*Here are some examples of change detection using a non-seasonal approach. Panel (a) is a change by agriculture and panel (b) is a change by gold mining activity*.\n",
    "\n",
    "<img src=\"https://raw.githubusercontent.com/ytarazona/mappingForestDisturbances/main/data/examples_detections.jpg\" align=\"center\" width=\"750\"/>\n",
    "\n",
    "On ther other hand, this detection approach was implemented in both [Python](https://github.com/ytarazona/forestools) and [R](https://github.com/ytarazona/ForesToolboxRS) packages, so that if you are not familiar with Earth Engine's architecture, you have different alternatives to apply a non-seasonal detection approach. *Try to do it*."
   ]
  },
  {
   "cell_type": "markdown",
   "metadata": {},
   "source": [
    "### 3.3 Detect changes in order to map deforestation"
   ]
  },
  {
   "cell_type": "markdown",
   "metadata": {},
   "source": [
    "### Using radar imagery"
   ]
  },
  {
   "cell_type": "markdown",
   "metadata": {},
   "source": [
    "Sentinel-1 is a C-band Synthetic Aperture Radar that supports a wide variety of applications, including deforestation assessment. For this tutorial VH polarization acquired in Interferometric Wide Swath mode and in Ground Range Detected (GRD) format was used. In GEE, the pre processing of Calibration and terrain correction were made. The VH radar backscattering coefficients ($\\sigma0$) is obtained in decibels ($dB$). But, remember to convert from digital number (DN) values to $dB$ is with:\n",
    "\n",
    "$${dB}_{i,j}=10\\ast{log}_{10}({{DN}_{i,j}}^2/A^2)$$\n",
    "\n",
    "where, $i$, $j$ represents the position (row and column), and $A$ represents the calibration factor, which can be looked up in the *sigma naught* values in the lookup table (LUT).\n",
    "\n",
    "> For this tutorial, no filter was applied to remove the speckle noise. This step was not necessary in order to avoid losing spatial resolution. Nevertheless, it is a free option!.  \n",
    "\n",
    "**Step 2**: *Collection of Sentinel-1 was used*:"
   ]
  },
  {
   "cell_type": "code",
   "execution_count": 4,
   "metadata": {},
   "outputs": [],
   "source": [
    "# Area of interes\n",
    "roi = ee.Geometry.Rectangle([-70.734, -13.167, -69.727, -12.552])\n",
    "\n",
    "# Load Sentinel-1 C-band SAR Ground Range Detected (log scale, VH, descending)\n",
    "collectionS1 = ee.ImageCollection('COPERNICUS/S1_GRD')\\\n",
    "                 .filter(ee.Filter.eq('instrumentMode', 'IW'))\\\n",
    "                 .filter(ee.Filter.listContains('transmitterReceiverPolarisation', 'VH'))\\\n",
    "                 .filter(ee.Filter.eq('orbitProperties_pass', 'DESCENDING'))\\\n",
    "                 .filterMetadata('resolution_meters', 'equals' , 10)\\\n",
    "                 .filterBounds(roi)"
   ]
  },
  {
   "cell_type": "markdown",
   "metadata": {},
   "source": [
    "When we are detecting changes using time series, it is usually to separate in a time-serie reference and a target year. The reference serie is for calculating the mean ($\\mu_{i,j}$) and standard deviation ($\\sigma_{i,j}$), while the target year is the year in which the changes will be detected.\n",
    "\n",
    "**Step 3**: *Let's separate in a time-serie reference and a target year*"
   ]
  },
  {
   "cell_type": "markdown",
   "metadata": {},
   "source": [
    "In this step we will separete a time-series *reference* and the *target year*. The target year will be used to detect deforestation. Here, deforestation will be detected from 2018-2021 (four years)\n"
   ]
  },
  {
   "cell_type": "code",
   "execution_count": 5,
   "metadata": {},
   "outputs": [],
   "source": [
    "# ---------------------------------- Important!---------------------------\n",
    "\n",
    "# 1. Reference -> '2016-01-01', '2017-12-31'\n",
    "collr = collectionS1.filterDate('2016-01-01', '2017-12-31')\n",
    "\n",
    "# 2. Selecting polarization\n",
    "collVHr = collr.select('VH')\n",
    "\n",
    "# 2. Image target used to detect deforestation\n",
    "# Deforestation will be detected from 2018-2021 (four years)\n",
    "# So, let´s take an image in 2021.\n",
    "imgTar = collectionS1.filterDate('2021-12-01', '2021-12-20').select(\"VH\")\\\n",
    "               .reduce(ee.Reducer.median()).rename(\"VH\")"
   ]
  },
  {
   "cell_type": "markdown",
   "metadata": {},
   "source": [
    "Number of images in *collr* can be obtained using *collection.size().getInfo()*. In addition, the names of bands can also be obtained."
   ]
  },
  {
   "cell_type": "code",
   "execution_count": 6,
   "metadata": {},
   "outputs": [
    {
     "name": "stdout",
     "output_type": "stream",
     "text": [
      "Number of images: 32.\n",
      "Bands available: ['VV', 'VH', 'angle'].\n"
     ]
    }
   ],
   "source": [
    "# number of images\n",
    "print(f\"Number of images: {collr.size().getInfo()}.\")\n",
    "# band names\n",
    "print(f\"Bands available: {collr.first().bandNames().getInfo()}.\")"
   ]
  },
  {
   "cell_type": "markdown",
   "metadata": {},
   "source": [
    "**Step 4**: *Applying a moving-average filter in Earth Engine*"
   ]
  },
  {
   "cell_type": "markdown",
   "metadata": {},
   "source": [
    "Radar polarizations and vegetation indices generally present noise in the time series that in some way or another hinder subsequent analyzes. In radar images this effect is mainly related to speckle noise. However, in optical images this noise (outliers) can be related to: i) no algorithm was used to mask the atmospheric noise before analyzing the time series and ii) negative outliers that were not detected by the masking algorithm. \n",
    "\n",
    "It is important to remove these effects that can be confused by deforestation events. To minimize this problem, an alternative is to use a moving-average filter:\n",
    "\n",
    "$$Y(t)=\\sum_{i=-\\infty}^{\\infty}{\\lambda S_{t+i}}$$\n",
    "\n",
    "where, $S$ is a value of a point serie, $Y(t)$ is the output, $\\lambda = \\frac{1}{2a+1}$, $t$ is the time, and $a$ is also related to the time and could be 1, 2, 3, etc. So, this equation can be rewritten as:\n",
    "\n",
    "$$Y\\left(t\\right)=\\frac{1}{2a+1}\\sum_{i=-a}^{a}S_{t+i}$$\n",
    "\n",
    "Depending on the value of $a$, the smoothing can be strong (often excessive) or small. It is important to select an optimal and adequate $a$ value.\n",
    "\n",
    "To increase the accuracy of detections, increasing the value of $a$ is a good choice. But, *be aware of the commission effect*."
   ]
  },
  {
   "cell_type": "code",
   "execution_count": 7,
   "metadata": {},
   "outputs": [],
   "source": [
    "join = ee.Join.saveAll(**{'matchesKey': 'images'})\n",
    "\n",
    "timeField = 'system:time_start'\n",
    "\n",
    "# related to the value of 'a'\n",
    "days = 16\n",
    "\n",
    "diffFilter = ee.Filter.maxDifference(**{\n",
    "    'difference': 1000 * 60 * 60 * 24 *days,\n",
    "    'leftField': timeField, \n",
    "    'rightField': timeField})\n",
    "\n",
    "threeNeighborJoin = join.apply(**{\n",
    "    'primary': collVHr, \n",
    "    'secondary': collVHr, \n",
    "    'condition': diffFilter\n",
    "})\n",
    "\n",
    "def func(image):\n",
    "    collection = ee.ImageCollection.fromImages(image.get('images'))\n",
    "    return ee.Image(image).addBands(collection.mean().rename('VH_MA'))\n",
    "\n",
    "# applying moving average\n",
    "collVH_smoothed = ee.ImageCollection(threeNeighborJoin.map(func))"
   ]
  },
  {
   "cell_type": "markdown",
   "metadata": {},
   "source": [
    "In this step standard deviation and mean values are obtained. Furthermore, we can use a geometry to clip our images. \n",
    "\n",
    "**Step 5**: *Detecting deforestation using a Non-seasonal Detection Approach*"
   ]
  },
  {
   "cell_type": "code",
   "execution_count": 8,
   "metadata": {},
   "outputs": [],
   "source": [
    "# selecting the new band after applying smoothing\n",
    "reference_time_series = collVH_smoothed.select(\"VH_MA\")\n",
    "\n",
    "# statistics pixel by pixel, clip the image\n",
    "# mean\n",
    "mean = reference_time_series.reduce(ee.Reducer.mean()).clip(roi)\n",
    "\n",
    "# standard deviation\n",
    "stdv = reference_time_series.reduce(ee.Reducer.stdDev()).clip(roi)\n",
    "\n",
    "# image target in Year 2021 -> i.e. '2021-12-01', '2021-12-20'\n",
    "image_target = imgTar.clip(roi)"
   ]
  },
  {
   "cell_type": "markdown",
   "metadata": {},
   "source": [
    "Here, if the value of a given pixel is less than the established limit, then a disturbance is detected in the forest (e.g., deforestation). In this step is important to consider the $\\beta$ value. A low value of $\\beta$ could give more accuracy but the effect of the commission should be evaluted. The optimal threshold values of $\\beta$ are 3 and 3 for vegetation indices such as NDVI and EVI respectively. While for fractions indices such as NDFI and Photosynthetic Vegetation the optimal values of $\\beta$ are 4 and 5 respectively. So, keep in mind it before detecting changes.\n",
    "\n",
    "Considering that the VH polarization is used to detect deforestation, $\\beta = 4$ will be used. This value could vary depending on the accuracy required. In sum, $\\beta = 4$ could vary. \n",
    "\n",
    "**Step 6**: Obtaining the lower limits and the breakpoints. "
   ]
  },
  {
   "cell_type": "code",
   "execution_count": 9,
   "metadata": {
    "scrolled": true
   },
   "outputs": [],
   "source": [
    "# lower limit to detect deforestation\n",
    "Li = mean.subtract(stdv.multiply(4)) # beta = 4\n",
    "# upper limit to detect reforestation\n",
    "Ls = mean.add(stdv.multiply(4))# beta = 4\n",
    "\n",
    "# detecting breakpoints: if a value < lower limit\n",
    "defor = image_target.lt(Li) # deforestation\n",
    "# detecting breakpoints: if a value > lower limit\n",
    "refor = image_target.gt(Ls) # reforestation\n",
    "\n",
    "# raster of deforestation and raster of reforestation\n",
    "imageDefor = image_target.updateMask(defor).neq(0)\n",
    "imageRefor = image_target.updateMask(refor).neq(0)"
   ]
  },
  {
   "cell_type": "markdown",
   "metadata": {},
   "source": [
    "**Step7**: Removing the isolated pixels"
   ]
  },
  {
   "cell_type": "markdown",
   "metadata": {},
   "source": []
  },
  {
   "cell_type": "code",
   "execution_count": 10,
   "metadata": {},
   "outputs": [],
   "source": [
    "def post_processing(image, min_area = 900, max_size = 50):\n",
    "    ''''''\n",
    "    pixel_count = image.connectedPixelCount(max_size)\n",
    "    \n",
    "    min_pixel_count = ee.Image(min_area).divide(ee.Image.pixelArea())\n",
    "    \n",
    "    image_defor = image.updateMask(pixel_count.gte(min_pixel_count))\n",
    "    \n",
    "    return image_defor"
   ]
  },
  {
   "cell_type": "markdown",
   "metadata": {},
   "source": [
    "Finally, in this last step the results of the detections are shown. First, the image target (VH polarization in 2021) will be shown. Second, the previous year (VH in 2017). Third, raster of detections and finally, raster of reforestation. To improve the display of the radar image, the python *viridis* palette was used.\n",
    "\n",
    "Here, the result obtained:\n",
    "\n",
    "<img src=\"https://raw.githubusercontent.com/ytarazona/mappingForestDisturbances/main/data/final_result.jpg\" align=\"center\" width=\"650\"/>"
   ]
  },
  {
   "cell_type": "markdown",
   "metadata": {},
   "source": [
    "**Step 7**: Display the results using code:"
   ]
  },
  {
   "cell_type": "code",
   "execution_count": 11,
   "metadata": {},
   "outputs": [],
   "source": [
    "# using a palette\n",
    "vh_palette = cm.palettes.viridis\n",
    "\n",
    "viz_radar = {'min':-30, 'max':-6, 'palette': vh_palette}\n",
    "\n",
    "viz_defo = {'min':0, 'max':1, 'palette': ['#000000']}\n",
    "\n",
    "viz_defo_post = {'min':0, 'max':1, 'palette': ['#FF0000']}\n",
    "\n",
    "viz_refo = {'min':0, 'max':1, 'palette': ['#00FF00']}"
   ]
  },
  {
   "cell_type": "code",
   "execution_count": 12,
   "metadata": {
    "scrolled": true
   },
   "outputs": [
    {
     "data": {
      "application/vnd.jupyter.widget-view+json": {
       "model_id": "d2e9f8b759074eb0b57eec854303bb08",
       "version_major": 2,
       "version_minor": 0
      },
      "text/plain": [
       "Map(center=[-12.859854428230161, -70.23049999999989], controls=(WidgetControl(options=['position'], widget=HBo…"
      ]
     },
     "metadata": {},
     "output_type": "display_data"
    }
   ],
   "source": [
    "# Display images\n",
    "Map.centerObject(roi, 9)\n",
    "Map.addLayer(image_target, viz_radar, \"VH-2021\") # Monitoring Year \n",
    "Map.addLayer(reference_time_series.limit(1, 'system:time_start', False).first().clip(roi), \n",
    "             viz_radar, \"VH-2017\") # Previous Year \n",
    "Map.addLayer(imageDefor,viz_defo, \"Deforestation 2018-2021\")\n",
    "Map.addLayer(post_processing(imageDefor),viz_defo_post,\"Deforestation 2018-2021-Postprocessing\")\n",
    "Map.addLayer(imageRefor, viz_refo, \"Reforestation 2018-2021\")\n",
    "Map.add_colorbar(viz_radar, label =\"decibels\")\n",
    "Map"
   ]
  },
  {
   "cell_type": "markdown",
   "metadata": {},
   "source": [
    "### Downloading the result"
   ]
  },
  {
   "cell_type": "markdown",
   "metadata": {},
   "source": [
    "The results can be download using ```ee.batch.Export.image()```. This file will be in google drive."
   ]
  },
  {
   "cell_type": "code",
   "execution_count": null,
   "metadata": {},
   "outputs": [],
   "source": [
    "# goin to your google drive\n",
    "task = ee.batch.Export.image(imageDefor, 'Deforestation_Peru_Region_2018-2021', \n",
    "                             {'region': roi.geometry(),\n",
    "                              'scale': 10,\n",
    "                              'maxPixels': 1e+13,\n",
    "                              'folder': 'DEFORESTATION',\n",
    "                              'fileFormat': 'GeoTIFF',\n",
    "                              'crs': 'EPSG:4326'})\n",
    "print(\"Downloading the image:\" + \"Deforestation_ROI_PERU_2018-2021\" + \".tif\")\n",
    "task.start()"
   ]
  },
  {
   "cell_type": "markdown",
   "metadata": {},
   "source": [
    "### Detecting a breakpoint in a time series"
   ]
  },
  {
   "cell_type": "markdown",
   "metadata": {},
   "source": [
    "**Miscellany**: As a final analysis, a time series using a region of interest will be extracted in order to apply a smoothing and then detect a breakpoint using the ```forestools``` package. \n",
    "\n",
    "So, a function to extract the VH polarization and then convert to a pandas data frame was created. Let´s start:"
   ]
  },
  {
   "cell_type": "code",
   "execution_count": 63,
   "metadata": {},
   "outputs": [],
   "source": [
    "# roi of interest\n",
    "point = ee.Geometry.Point(-70.040332, -12.922742).buffer(10)\n",
    "\n",
    "# full collection of S1 VH\n",
    "coll_full = collectionS1.filterDate('2016-01-01', '2021-12-20').select('VH')\n",
    "\n",
    "# function to reduce a image collection to get a time series\n",
    "def point_mean(img):\n",
    "    mean = img.reduceRegion(**{\n",
    "        'reducer': ee.Reducer.mean(), \n",
    "        'geometry': point, \n",
    "        'scale': 10, \n",
    "        'maxPixels': 1e13}).get('VH')\n",
    "    return img.set('date', img.date().format()).set('vh_ma_mean', mean)\n",
    "\n",
    "# function to extrac time series from a collection\n",
    "def extract_time_series(coll):\n",
    "    # applying the point_mean() function \n",
    "    point_reduced = coll.map(point_mean)\n",
    "    \n",
    "    # getting the list of VH\n",
    "    list_vh_ma_mean = point_reduced.reduceColumns(ee.Reducer.toList(2), ['date','vh_ma_mean'])\\\n",
    "                             .values().get(0)\n",
    "\n",
    "    # getting a data frame and creating two data columns\n",
    "    df = pd.DataFrame(list_vh_ma_mean.getInfo(), columns = ['date','vh_ma_mean'])\n",
    "\n",
    "    # date as index\n",
    "    df['date'] = pd.to_datetime(df['date'])\n",
    "    df = df.set_index('date')\n",
    "\n",
    "    # ordering dates\n",
    "    df = df.sort_values(by = \"date\") \n",
    "    \n",
    "    # return the original time series\n",
    "    return df"
   ]
  },
  {
   "cell_type": "markdown",
   "metadata": {},
   "source": [
    "Let's call the ```extract_time_series()``` function to extract the time series of VH."
   ]
  },
  {
   "cell_type": "code",
   "execution_count": 64,
   "metadata": {},
   "outputs": [],
   "source": [
    "# return the original time series\n",
    "original_ts = extract_time_series(coll = coll_full)"
   ]
  },
  {
   "cell_type": "markdown",
   "metadata": {},
   "source": [
    "Again, a moving average was applied in order to smooth the VH polarization. A window of $4$ was applied here."
   ]
  },
  {
   "cell_type": "code",
   "execution_count": 41,
   "metadata": {},
   "outputs": [],
   "source": [
    "# make a copy of \"sts\" -> smoothed time series\n",
    "smooth_ts = ots.copy()\n",
    "\n",
    "# applying a moving average\n",
    "smooth_ts = sts.rolling(window = 4).mean() "
   ]
  },
  {
   "cell_type": "markdown",
   "metadata": {},
   "source": [
    "Let's compare both the orignal series and the smoothed series."
   ]
  },
  {
   "cell_type": "code",
   "execution_count": 42,
   "metadata": {},
   "outputs": [
    {
     "data": {
      "image/png": "[encoded data removed]",
      "text/plain": [
       "<Figure size 864x432 with 1 Axes>"
      ]
     },
     "metadata": {},
     "output_type": "display_data"
    }
   ],
   "source": [
    "# graphics\n",
    "fig, axes = plt.subplots(figsize = (12, 6))\n",
    "axes.plot(original_ts, 'b-', marker='.', ms = 7, linewidth = 1, label = \"Original series\")\n",
    "axes.plot(smooth_ts, 'r-', marker = '.', ms = 7, linewidth = 1, label = 'Smoothed series')\n",
    "axes.set(xlabel = 'Time', ylabel = 'VH ($dB$)', ylim = (-33, -8.5))\n",
    "axes.legend(fontsize = 15)\n",
    "plt.show()"
   ]
  },
  {
   "cell_type": "markdown",
   "metadata": {},
   "source": [
    "An extra command to see the values of the original series and the smoothed series."
   ]
  },
  {
   "cell_type": "code",
   "execution_count": 56,
   "metadata": {},
   "outputs": [
    {
     "name": "stdout",
     "output_type": "stream",
     "text": [
      "Some values of the original time series:\n"
     ]
    },
    {
     "data": {
      "text/html": [
       "<div>\n",
       "<style scoped>\n",
       "    .dataframe tbody tr th:only-of-type {\n",
       "        vertical-align: middle;\n",
       "    }\n",
       "\n",
       "    .dataframe tbody tr th {\n",
       "        vertical-align: top;\n",
       "    }\n",
       "\n",
       "    .dataframe thead th {\n",
       "        text-align: right;\n",
       "    }\n",
       "</style>\n",
       "<table border=\"1\" class=\"dataframe\">\n",
       "  <thead>\n",
       "    <tr style=\"text-align: right;\">\n",
       "      <th></th>\n",
       "      <th>vh_ma_mean</th>\n",
       "    </tr>\n",
       "    <tr>\n",
       "      <th>date</th>\n",
       "      <th></th>\n",
       "    </tr>\n",
       "  </thead>\n",
       "  <tbody>\n",
       "    <tr>\n",
       "      <th>2016-02-06 10:14:40</th>\n",
       "      <td>-13.388868</td>\n",
       "    </tr>\n",
       "    <tr>\n",
       "      <th>2016-09-09 10:14:48</th>\n",
       "      <td>-15.721769</td>\n",
       "    </tr>\n",
       "    <tr>\n",
       "      <th>2016-12-20 10:14:03</th>\n",
       "      <td>-13.946203</td>\n",
       "    </tr>\n",
       "    <tr>\n",
       "      <th>2017-01-13 10:14:01</th>\n",
       "      <td>-10.637130</td>\n",
       "    </tr>\n",
       "    <tr>\n",
       "      <th>2017-02-06 10:14:00</th>\n",
       "      <td>-12.464820</td>\n",
       "    </tr>\n",
       "  </tbody>\n",
       "</table>\n",
       "</div>"
      ],
      "text/plain": [
       "                     vh_ma_mean\n",
       "date                           \n",
       "2016-02-06 10:14:40  -13.388868\n",
       "2016-09-09 10:14:48  -15.721769\n",
       "2016-12-20 10:14:03  -13.946203\n",
       "2017-01-13 10:14:01  -10.637130\n",
       "2017-02-06 10:14:00  -12.464820"
      ]
     },
     "execution_count": 56,
     "metadata": {},
     "output_type": "execute_result"
    }
   ],
   "source": [
    "# pandas maximum row configuration\n",
    "pd.set_option('display.max_rows', 5)\n",
    "\n",
    "# some values\n",
    "print(\"Some values of the original time series:\")\n",
    "originalts.head()"
   ]
  },
  {
   "cell_type": "code",
   "execution_count": 57,
   "metadata": {},
   "outputs": [
    {
     "name": "stdout",
     "output_type": "stream",
     "text": [
      "Some values of the smoothed time series:\n"
     ]
    },
    {
     "data": {
      "text/html": [
       "<div>\n",
       "<style scoped>\n",
       "    .dataframe tbody tr th:only-of-type {\n",
       "        vertical-align: middle;\n",
       "    }\n",
       "\n",
       "    .dataframe tbody tr th {\n",
       "        vertical-align: top;\n",
       "    }\n",
       "\n",
       "    .dataframe thead th {\n",
       "        text-align: right;\n",
       "    }\n",
       "</style>\n",
       "<table border=\"1\" class=\"dataframe\">\n",
       "  <thead>\n",
       "    <tr style=\"text-align: right;\">\n",
       "      <th></th>\n",
       "      <th>vh_ma_mean</th>\n",
       "    </tr>\n",
       "    <tr>\n",
       "      <th>date</th>\n",
       "      <th></th>\n",
       "    </tr>\n",
       "  </thead>\n",
       "  <tbody>\n",
       "    <tr>\n",
       "      <th>2016-02-06 10:14:40</th>\n",
       "      <td>NaN</td>\n",
       "    </tr>\n",
       "    <tr>\n",
       "      <th>2016-09-09 10:14:48</th>\n",
       "      <td>NaN</td>\n",
       "    </tr>\n",
       "    <tr>\n",
       "      <th>2016-12-20 10:14:03</th>\n",
       "      <td>NaN</td>\n",
       "    </tr>\n",
       "    <tr>\n",
       "      <th>2017-01-13 10:14:01</th>\n",
       "      <td>-13.423492</td>\n",
       "    </tr>\n",
       "    <tr>\n",
       "      <th>2017-02-06 10:14:00</th>\n",
       "      <td>-13.192481</td>\n",
       "    </tr>\n",
       "  </tbody>\n",
       "</table>\n",
       "</div>"
      ],
      "text/plain": [
       "                     vh_ma_mean\n",
       "date                           \n",
       "2016-02-06 10:14:40         NaN\n",
       "2016-09-09 10:14:48         NaN\n",
       "2016-12-20 10:14:03         NaN\n",
       "2017-01-13 10:14:01  -13.423492\n",
       "2017-02-06 10:14:00  -13.192481"
      ]
     },
     "execution_count": 57,
     "metadata": {},
     "output_type": "execute_result"
    }
   ],
   "source": [
    "# some values of the smoothed time series\n",
    "print(\"Some values of the smoothed time series:\")\n",
    "smooth_ts.head()"
   ]
  },
  {
   "cell_type": "markdown",
   "metadata": {},
   "source": [
    "Looking for a breakpoint with the PVts-$\\beta$ approach using the ```pvts``` function."
   ]
  },
  {
   "cell_type": "code",
   "execution_count": 59,
   "metadata": {},
   "outputs": [
    {
     "name": "stdout",
     "output_type": "stream",
     "text": [
      "The results of the detections:\n",
      "\n"
     ]
    },
    {
     "data": {
      "text/plain": [
       "{'Ts': 2017-01-13   -13.423492\n",
       " 2017-02-06   -13.192481\n",
       "                 ...    \n",
       " 2021-11-24   -27.206137\n",
       " 2021-12-06   -28.985835\n",
       " Name: vh_ma_mean, Length: 147, dtype: float64,\n",
       " 'Monitoring_period': {'start': '2021-08-20', 'end': '2021-08-20'},\n",
       " 'Breakpoint': {'Year_index': '2021-08-20', 'value': -21.469977025365715},\n",
       " 'Threshold': {'Threshold': 4, 'Lower_limit': -17.897137534993146}}"
      ]
     },
     "execution_count": 59,
     "metadata": {},
     "output_type": "execute_result"
    }
   ],
   "source": [
    "# Let's detect change\n",
    "\n",
    "# using sts omiting NaN\n",
    "cd = pvts(x = sts.dropna(), startm = '2021-08-20', endm = '2021-08-20', threshold = 4)\n",
    "\n",
    "# print the result\n",
    "print(f\"The results of the detections:\\n\")\n",
    "cd"
   ]
  },
  {
   "cell_type": "markdown",
   "metadata": {},
   "source": [
    "Then, a graphic will be shown using the ```plot()``` function. Both functions come from the Python *forestools* package."
   ]
  },
  {
   "cell_type": "code",
   "execution_count": 60,
   "metadata": {},
   "outputs": [
    {
     "data": {
      "image/png": "[encoded data removed]",
      "text/plain": [
       "<Figure size 864x432 with 1 Axes>"
      ]
     },
     "metadata": {},
     "output_type": "display_data"
    }
   ],
   "source": [
    "# plot breakpoint\n",
    "plt.figure(figsize = (12,6))\n",
    "plot(cd, ylabel = 'VH ($dB$)')\n",
    "plt.show()"
   ]
  },
  {
   "cell_type": "markdown",
   "metadata": {},
   "source": [
    "<div class=\"alert alert-info\" role=\"alert\">\n",
    "\n",
    "## <a id='section4'></a>4. Pros and cons about detecting deforestation in time series domain\n",
    "\n",
    "</div>"
   ]
  },
  {
   "cell_type": "markdown",
   "metadata": {},
   "source": [
    "It is important to make an analysis of the detection approaches based on time series. Using a time series analysis has advantages in certain aspects. For example, it is very likely to detect slight changes over time in photosynthetic activity than using classifications based on machine learning or deep learning (\"probably\"). However, a disadvantage of using time series is related to outliers, i.e. if the atmospheric noise and seasonality of the time series are not eliminated or minimized correctly, it could make any further analysis in the time series difficult. Besides, time series computation issues are currently not a major challenge due to platforms such as Earth Engine; in fact, there are time series based detection methods implemented in EE. \n",
    "\n",
    "On the other hand, the PVts-$\\beta$ approach (based on time series) is a method that: (i) is simple and intuitive and which does not model seasonality, (ii) has only one calibration parameter to detect deforestation, and iii) can be easily implemented by any standard user. Finally, given the increased interest and activity in simple, effective, and low-cost forest monitoring methods, PVts-$\\beta$ is clearly a strategic tool.\n",
    "\n",
    "That's all!"
   ]
  },
  {
   "cell_type": "markdown",
   "metadata": {},
   "source": [
    "### References\n",
    "\n",
    "- Tarazona, Y., Mantas, V.M., Pereira, A.J.S.C. (2018). Improving tropical deforestation detection through using photosynthetic vegetation time series (PVts-β). Ecological Indicators, 94, 367 379, DOI: [10.1016/j.ecolind.2018.07.012](https://doi.org/10.1016/j.ecolind.2018.07.012)\n",
    "- Tarazona, Y. (2022). Mapping deforestation using fractions indices and the PVts-beta approach, IEEE Geoscience and Remote Sensing Letters, DOI: [10.1109/LGRS.2021.3137277](https://ieeexplore.ieee.org/document/9656901)."
   ]
  }
 ],
 "metadata": {
  "kernelspec": {
   "display_name": "Python 3",
   "language": "python",
   "name": "python3"
  },
  "language_info": {
   "codemirror_mode": {
    "name": "ipython",
    "version": 3
   },
   "file_extension": ".py",
   "mimetype": "text/x-python",
   "name": "python",
   "nbconvert_exporter": "python",
   "pygments_lexer": "ipython3",
   "version": "3.7.8"
  },
  "toc": {
   "base_numbering": 1,
   "nav_menu": {},
   "number_sections": false,
   "sideBar": true,
   "skip_h1_title": false,
   "title_cell": "Table of Contents",
   "title_sidebar": "Contents",
   "toc_cell": false,
   "toc_position": {},
   "toc_section_display": true,
   "toc_window_display": false
  }
 },
 "nbformat": 4,
 "nbformat_minor": 4
}
